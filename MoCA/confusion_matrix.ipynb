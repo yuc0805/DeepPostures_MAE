{
 "cells": [
  {
   "cell_type": "code",
   "execution_count": 1,
   "id": "155510d0",
   "metadata": {},
   "outputs": [],
   "source": [
    "hip_lp_ckpt = '/niddk-data-central/leo_workspace/MoCA_result/LP/ckpt/Hip_20epochLP_blr_0.01_bs_256_input_size_[3, 100]/2025-04-27_02-37/checkpoint-best.pth'\n",
    "wrist_lp_ckpt = '/niddk-data-central/leo_workspace/MoCA_result/LP/ckpt/Wrist_20epochblr_0.01_bs_256_input_size_[3, 100]/2025-04-26_20-00/checkpoint-best.pth'"
   ]
  },
  {
   "cell_type": "code",
   "execution_count": 2,
   "id": "cec8b19f",
   "metadata": {},
   "outputs": [
    {
     "name": "stderr",
     "output_type": "stream",
     "text": [
      "/usr/local/lib/python3.11/site-packages/tqdm/auto.py:21: TqdmWarning: IProgress not found. Please update jupyter and ipywidgets. See https://ipywidgets.readthedocs.io/en/stable/user_install.html\n",
      "  from .autonotebook import tqdm as notebook_tqdm\n"
     ]
    }
   ],
   "source": [
    "import models_vit\n",
    "import torch\n",
    "\n",
    "hip_lp_model = models_vit.__dict__['vit_base_patch16'](\n",
    "            img_size=[3,100], patch_size=[1, int(5)], \n",
    "            num_classes=2, in_chans=1, \n",
    "            global_pool=False)\n",
    "hip_lp_model.head = torch.nn.Sequential(torch.nn.BatchNorm1d(768, affine=False, eps=1e-6), hip_lp_model.head)\n",
    "\n",
    "wrist_lp_model = models_vit.__dict__['vit_base_patch16'](\n",
    "            img_size=[3,100], patch_size=[1, int(5)], \n",
    "            num_classes=2, in_chans=1, \n",
    "            global_pool=False)"
   ]
  },
  {
   "cell_type": "markdown",
   "id": "eb6406ad",
   "metadata": {},
   "source": [
    "## Hip-LP CM"
   ]
  },
  {
   "cell_type": "code",
   "execution_count": 3,
   "id": "e1cf61f9",
   "metadata": {},
   "outputs": [
    {
     "data": {
      "text/plain": [
       "<All keys matched successfully>"
      ]
     },
     "execution_count": 3,
     "metadata": {},
     "output_type": "execute_result"
    }
   ],
   "source": [
    "hip_lp_checkpoint = torch.load(hip_lp_ckpt, map_location='cpu')['model']\n",
    "if any(k.startswith(\"module.\") for k in hip_lp_checkpoint.keys()):\n",
    "    hip_lp_checkpoint = {k.replace(\"module.\", \"\"): v for k, v in hip_lp_checkpoint.items()}\n",
    "    \n",
    "hip_lp_model.load_state_dict(hip_lp_checkpoint, strict=True)\n"
   ]
  },
  {
   "cell_type": "code",
   "execution_count": 25,
   "id": "d8f51442",
   "metadata": {},
   "outputs": [],
   "source": [
    "from util.datasets import iWatch_HDf5,collate_fn\n",
    "\n",
    "def get_loader(data_path):\n",
    "    dataset_val = iWatch_HDf5(data_path, set_type='val', transform=None)\n",
    "    sampler_val = torch.utils.data.RandomSampler(dataset_val)\n",
    "    data_loader_val = torch.utils.data.DataLoader(\n",
    "            dataset_val,\n",
    "            sampler = sampler_val,\n",
    "            batch_size=1024,\n",
    "            num_workers=2,\n",
    "            pin_memory=True,\n",
    "            drop_last=False,\n",
    "            persistent_workers=True,\n",
    "            collate_fn = collate_fn)\n",
    "\n",
    "    return data_loader_val\n",
    "\n",
    "hip_loader = get_loader('/niddk-data-central/iWatch/pre_processed_seg/H')"
   ]
  },
  {
   "cell_type": "code",
   "execution_count": 26,
   "id": "59c28bc0",
   "metadata": {},
   "outputs": [],
   "source": [
    "from itertools import chain\n",
    "from tqdm import tqdm\n",
    "import numpy as np\n",
    "from sklearn.metrics import balanced_accuracy_score\n",
    "\n",
    "def mae_classification_pass(data_loader, model):\n",
    "    device = torch.device(\"cuda\" if torch.cuda.is_available() else \"cpu\")\n",
    "    model.to(device)\n",
    "    model.eval()  # ensures dropout etc. is disabled\n",
    "    print('using', device)\n",
    "\n",
    "    # Use flat Python lists\n",
    "    preds_list = []\n",
    "    targets_list = []\n",
    "\n",
    "    # no gradient needed\n",
    "    for batch in tqdm(data_loader):\n",
    "        images = batch[0].to(device, non_blocking=True)\n",
    "        target = batch[-1].to(device, non_blocking=True)\n",
    "        \n",
    "        with torch.no_grad():\n",
    "            output = model(images)\n",
    "        pred = torch.argmax(output, dim=1)\n",
    "\n",
    "        preds_list.extend(pred.cpu().tolist())\n",
    "        targets_list.extend(target.cpu().tolist())\n",
    "\n",
    "    balanced_acc = balanced_accuracy_score(targets_list, preds_list)\n",
    "    return preds_list, targets_list, balanced_acc\n"
   ]
  },
  {
   "cell_type": "code",
   "execution_count": 27,
   "id": "00c00872",
   "metadata": {},
   "outputs": [],
   "source": [
    "def plot_cm(cm_all, title, labels=['Sitting', 'Non-Sitting']):\n",
    "    fig, ax = plt.subplots(figsize=(6, 5))  # use object-oriented API\n",
    "\n",
    "    sns.heatmap(\n",
    "        cm_all,\n",
    "        annot=True,\n",
    "        fmt='d',\n",
    "        cmap='Blues',\n",
    "        xticklabels=labels,\n",
    "        yticklabels=labels,\n",
    "        annot_kws={\"size\": 20},\n",
    "        cbar=False,\n",
    "        linewidths=0.2,\n",
    "        linecolor='white',\n",
    "        ax=ax\n",
    "    )\n",
    "    ax.set_title(title, fontsize=20)\n",
    "    ax.tick_params(axis='x', labelsize=16)\n",
    "    ax.tick_params(axis='y', labelsize=16)\n",
    "    fig.tight_layout()\n",
    "\n",
    "    return fig\n"
   ]
  },
  {
   "cell_type": "code",
   "execution_count": null,
   "id": "4b267d97",
   "metadata": {},
   "outputs": [
    {
     "name": "stdout",
     "output_type": "stream",
     "text": [
      "using cuda\n"
     ]
    },
    {
     "name": "stderr",
     "output_type": "stream",
     "text": [
      "  0%|          | 0/386 [00:00<?, ?it/s]"
     ]
    }
   ],
   "source": [
    "from sklearn.metrics import confusion_matrix\n",
    "import seaborn as sns\n",
    "import matplotlib.pyplot as plt\n",
    "\n",
    "pred_all, target_all, accuracy_all = mae_classification_pass(hip_loader,hip_lp_model)\n",
    "trial_classification = f'hip lp, val_set, bal_acc = {accuracy_all*100:.2f}'\n",
    "cm_all = confusion_matrix(target_all, pred_all)\n",
    "\n",
    "cm_plt = plot_cm(cm_all,trial_classification)\n"
   ]
  },
  {
   "cell_type": "code",
   "execution_count": null,
   "id": "9733bf15",
   "metadata": {},
   "outputs": [
    {
     "name": "stderr",
     "output_type": "stream",
     "text": [
      "\u001b[34m\u001b[1mwandb\u001b[0m: \u001b[33mWARNING\u001b[0m If you're specifying your api key in code, ensure this code is not shared publicly.\n",
      "\u001b[34m\u001b[1mwandb\u001b[0m: \u001b[33mWARNING\u001b[0m Consider setting the WANDB_API_KEY environment variable, or running `wandb login` from the command line.\n",
      "\u001b[34m\u001b[1mwandb\u001b[0m: Appending key for api.wandb.ai to your netrc file: /root/.netrc\n"
     ]
    },
    {
     "data": {
      "text/html": [
       "Tracking run with wandb version 0.19.11"
      ],
      "text/plain": [
       "<IPython.core.display.HTML object>"
      ]
     },
     "metadata": {},
     "output_type": "display_data"
    },
    {
     "data": {
      "text/html": [
       "Run data is saved locally in <code>/DeepPostures_MAE/MoCA/wandb/run-20250514_150818-e7r262yh</code>"
      ],
      "text/plain": [
       "<IPython.core.display.HTML object>"
      ]
     },
     "metadata": {},
     "output_type": "display_data"
    },
    {
     "data": {
      "text/html": [
       "Resuming run <strong><a href='https://wandb.ai/leo085/MoCA-iWatch-LP/runs/e7r262yh' target=\"_blank\">Hip_20epochLP_blr_0.01_bs_256_input_size_[3, 100]</a></strong> to <a href='https://wandb.ai/leo085/MoCA-iWatch-LP' target=\"_blank\">Weights & Biases</a> (<a href='https://wandb.me/developer-guide' target=\"_blank\">docs</a>)<br>"
      ],
      "text/plain": [
       "<IPython.core.display.HTML object>"
      ]
     },
     "metadata": {},
     "output_type": "display_data"
    },
    {
     "data": {
      "text/html": [
       " View project at <a href='https://wandb.ai/leo085/MoCA-iWatch-LP' target=\"_blank\">https://wandb.ai/leo085/MoCA-iWatch-LP</a>"
      ],
      "text/plain": [
       "<IPython.core.display.HTML object>"
      ]
     },
     "metadata": {},
     "output_type": "display_data"
    },
    {
     "data": {
      "text/html": [
       " View run at <a href='https://wandb.ai/leo085/MoCA-iWatch-LP/runs/e7r262yh' target=\"_blank\">https://wandb.ai/leo085/MoCA-iWatch-LP/runs/e7r262yh</a>"
      ],
      "text/plain": [
       "<IPython.core.display.HTML object>"
      ]
     },
     "metadata": {},
     "output_type": "display_data"
    },
    {
     "name": "stderr",
     "output_type": "stream",
     "text": [
      "\u001b[34m\u001b[1mwandb\u001b[0m: \u001b[32m\u001b[41mERROR\u001b[0m The nbformat package was not found. It is required to save notebook history.\n"
     ]
    },
    {
     "data": {
      "text/html": [],
      "text/plain": [
       "<IPython.core.display.HTML object>"
      ]
     },
     "metadata": {},
     "output_type": "display_data"
    },
    {
     "data": {
      "text/html": [
       "<br>    <style><br>        .wandb-row {<br>            display: flex;<br>            flex-direction: row;<br>            flex-wrap: wrap;<br>            justify-content: flex-start;<br>            width: 100%;<br>        }<br>        .wandb-col {<br>            display: flex;<br>            flex-direction: column;<br>            flex-basis: 100%;<br>            flex: 1;<br>            padding: 10px;<br>        }<br>    </style><br><div class=\"wandb-row\"><div class=\"wandb-col\"><h3>Run summary:</h3><br/><table class=\"wandb\"><tr><td>best_epoch_acc1</td><td>86.19093</td></tr><tr><td>best_epoch_bal_acc</td><td>81.52494</td></tr><tr><td>best_epoch_epoch</td><td>12</td></tr><tr><td>best_epoch_f1</td><td>86.14721</td></tr><tr><td>epoch</td><td>19</td></tr><tr><td>loss</td><td>0.36652</td></tr><tr><td>lr</td><td>0.0</td></tr><tr><td>perf/bal_acc</td><td>79.47639</td></tr><tr><td>perf/f1</td><td>86.06857</td></tr><tr><td>perf/test_acc1</td><td>86.49966</td></tr><tr><td>perf/test_loss</td><td>0.32907</td></tr><tr><td>train acc1</td><td>85.54688</td></tr></table><br/></div></div>"
      ],
      "text/plain": [
       "<IPython.core.display.HTML object>"
      ]
     },
     "metadata": {},
     "output_type": "display_data"
    },
    {
     "data": {
      "text/html": [
       " View run <strong style=\"color:#cdcd00\">Hip_20epochLP_blr_0.01_bs_256_input_size_[3, 100]</strong> at: <a href='https://wandb.ai/leo085/MoCA-iWatch-LP/runs/e7r262yh' target=\"_blank\">https://wandb.ai/leo085/MoCA-iWatch-LP/runs/e7r262yh</a><br> View project at: <a href='https://wandb.ai/leo085/MoCA-iWatch-LP' target=\"_blank\">https://wandb.ai/leo085/MoCA-iWatch-LP</a><br>Synced 5 W&B file(s), 1 media file(s), 0 artifact file(s) and 0 other file(s)"
      ],
      "text/plain": [
       "<IPython.core.display.HTML object>"
      ]
     },
     "metadata": {},
     "output_type": "display_data"
    },
    {
     "data": {
      "text/html": [
       "Find logs at: <code>./wandb/run-20250514_150818-e7r262yh/logs</code>"
      ],
      "text/plain": [
       "<IPython.core.display.HTML object>"
      ]
     },
     "metadata": {},
     "output_type": "display_data"
    }
   ],
   "source": [
    "# # Add to wandb\n",
    "import wandb\n",
    "wandb.login(key='32b6f9d5c415964d38bfbe33c6d5c407f7c19743')\n",
    "run = wandb.init(project='MoCA-iWatch-LP', id='e7r262yh', resume='allow')\n",
    "wandb.log({\"confusion_matrix\": wandb.Image(cm_plt)})\n",
    "run.finish()"
   ]
  },
  {
   "cell_type": "code",
   "execution_count": null,
   "id": "5d7df747",
   "metadata": {},
   "outputs": [],
   "source": []
  }
 ],
 "metadata": {
  "kernelspec": {
   "display_name": "Python 3",
   "language": "python",
   "name": "python3"
  },
  "language_info": {
   "codemirror_mode": {
    "name": "ipython",
    "version": 3
   },
   "file_extension": ".py",
   "mimetype": "text/x-python",
   "name": "python",
   "nbconvert_exporter": "python",
   "pygments_lexer": "ipython3",
   "version": "3.11.10"
  }
 },
 "nbformat": 4,
 "nbformat_minor": 5
}
