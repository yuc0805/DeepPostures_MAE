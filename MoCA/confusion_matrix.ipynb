{
 "cells": [
  {
   "cell_type": "code",
   "execution_count": 1,
   "id": "155510d0",
   "metadata": {},
   "outputs": [],
   "source": [
    "hip_lp_ckpt = '/niddk-data-central/leo_workspace/MoCA_result/LP/ckpt/Hip_20epochLP_blr_0.01_bs_256_input_size_[3, 100]/2025-04-27_02-37/checkpoint-best.pth'\n",
    "wrist_lp_ckpt = '/niddk-data-central/leo_workspace/MoCA_result/LP/ckpt/Wrist_20epochblr_0.01_bs_256_input_size_[3, 100]/2025-04-26_20-00/checkpoint-best.pth'"
   ]
  },
  {
   "cell_type": "code",
   "execution_count": 2,
   "id": "cec8b19f",
   "metadata": {},
   "outputs": [
    {
     "name": "stderr",
     "output_type": "stream",
     "text": [
      "/usr/local/lib/python3.11/site-packages/tqdm/auto.py:21: TqdmWarning: IProgress not found. Please update jupyter and ipywidgets. See https://ipywidgets.readthedocs.io/en/stable/user_install.html\n",
      "  from .autonotebook import tqdm as notebook_tqdm\n"
     ]
    }
   ],
   "source": [
    "import models_vit\n",
    "import torch\n",
    "\n",
    "hip_lp_model = models_vit.__dict__['vit_base_patch16'](\n",
    "            img_size=[3,100], patch_size=[1, int(5)], \n",
    "            num_classes=2, in_chans=1, \n",
    "            global_pool=False)\n",
    "hip_lp_model.head = torch.nn.Sequential(torch.nn.BatchNorm1d(768, affine=False, eps=1e-6), hip_lp_model.head)\n",
    "\n",
    "wrist_lp_model = models_vit.__dict__['vit_base_patch16'](\n",
    "            img_size=[3,100], patch_size=[1, int(5)], \n",
    "            num_classes=2, in_chans=1, \n",
    "            global_pool=False)"
   ]
  },
  {
   "cell_type": "markdown",
   "id": "eb6406ad",
   "metadata": {},
   "source": [
    "## Hip-LP CM"
   ]
  },
  {
   "cell_type": "code",
   "execution_count": 3,
   "id": "e1cf61f9",
   "metadata": {},
   "outputs": [
    {
     "data": {
      "text/plain": [
       "<All keys matched successfully>"
      ]
     },
     "execution_count": 3,
     "metadata": {},
     "output_type": "execute_result"
    }
   ],
   "source": [
    "hip_lp_checkpoint = torch.load(hip_lp_ckpt, map_location='cpu')['model']\n",
    "if any(k.startswith(\"module.\") for k in hip_lp_checkpoint.keys()):\n",
    "    hip_lp_checkpoint = {k.replace(\"module.\", \"\"): v for k, v in hip_lp_checkpoint.items()}\n",
    "    \n",
    "hip_lp_model.load_state_dict(hip_lp_checkpoint, strict=True)\n"
   ]
  },
  {
   "cell_type": "code",
   "execution_count": 12,
   "id": "d8f51442",
   "metadata": {},
   "outputs": [],
   "source": [
    "from util.datasets import iWatch_HDf5,collate_fn\n",
    "\n",
    "def get_loader(data_path):\n",
    "    dataset_val = iWatch_HDf5(data_path, set_type='val', transform=None)\n",
    "    sampler_val = torch.utils.data.SequentialSampler(dataset_val)\n",
    "    data_loader_val = torch.utils.data.DataLoader(\n",
    "            dataset_val,\n",
    "            sampler = sampler_val,\n",
    "            batch_size=64,\n",
    "            num_workers=2,\n",
    "            pin_memory=True,\n",
    "            drop_last=False,\n",
    "            collate_fn = collate_fn)\n",
    "\n",
    "    return data_loader_val\n",
    "\n",
    "hip_loader = get_loader('/niddk-data-central/iWatch/pre_processed_seg/H')"
   ]
  },
  {
   "cell_type": "code",
   "execution_count": 13,
   "id": "59c28bc0",
   "metadata": {},
   "outputs": [],
   "source": [
    "from itertools import chain\n",
    "from tqdm import tqdm\n",
    "import numpy as np\n",
    "from sklearn.metrics import balanced_accuracy_score\n",
    "\n",
    "def mae_classification_pass(data_loader, model):\n",
    "    device = torch.device(\"cuda\" if torch.cuda.is_available() else \"cpu\")\n",
    "    model.to(device)\n",
    "    model.eval()  # ensures dropout etc. is disabled\n",
    "    print('using', device)\n",
    "\n",
    "    # Use flat Python lists\n",
    "    preds_list = []\n",
    "    targets_list = []\n",
    "\n",
    "    with torch.no_grad():  # no gradient needed\n",
    "        for batch in tqdm(data_loader):\n",
    "            images = batch[0].to(device, non_blocking=True)\n",
    "            target = batch[-1].to(device, non_blocking=True)\n",
    "\n",
    "            output = model(images)\n",
    "            pred = torch.argmax(output, dim=1)\n",
    "\n",
    "            preds_list.extend(pred.cpu().tolist())\n",
    "            targets_list.extend(target.cpu().tolist())\n",
    "\n",
    "    balanced_acc = balanced_accuracy_score(targets_list, preds_list)\n",
    "    return preds_list, targets_list, balanced_acc\n"
   ]
  },
  {
   "cell_type": "code",
   "execution_count": null,
   "id": "4b267d97",
   "metadata": {},
   "outputs": [
    {
     "name": "stdout",
     "output_type": "stream",
     "text": [
      "using cuda\n"
     ]
    },
    {
     "name": "stderr",
     "output_type": "stream",
     "text": [
      "  0%|          | 0/6170 [00:00<?, ?it/s]"
     ]
    }
   ],
   "source": [
    "from sklearn.metrics import confusion_matrix\n",
    "import seaborn as sns\n",
    "import matplotlib.pyplot as plt\n",
    "\n",
    "pred_all, target_all, accuracy_all = mae_classification_pass(hip_loader,hip_lp_model)\n",
    "trial_classification = f'hip lp, acc = {accuracy_all}'\n",
    "\n",
    "cm_all = confusion_matrix(target_all, pred_all)\n",
    "\n",
    "labels = ['Sitting','Non-Sitting']\n",
    "\n",
    "plt.figure(figsize=(8, 6))\n",
    "sns.heatmap(cm_all, annot=True, cmap='Blues', fmt='d', xticklabels=labels,\n",
    "            yticklabels=labels)\n",
    "plt.xlabel('Predicted Labels')\n",
    "plt.ylabel('True Labels')\n",
    "plt.title(f'Accuracy (train)={round(accuracy_all,3)} ({trial_classification})')\n",
    "plt.show()\n",
    "\n"
   ]
  },
  {
   "cell_type": "code",
   "execution_count": null,
   "id": "9733bf15",
   "metadata": {},
   "outputs": [],
   "source": []
  },
  {
   "cell_type": "code",
   "execution_count": null,
   "id": "5d7df747",
   "metadata": {},
   "outputs": [],
   "source": []
  }
 ],
 "metadata": {
  "kernelspec": {
   "display_name": "Python 3",
   "language": "python",
   "name": "python3"
  },
  "language_info": {
   "codemirror_mode": {
    "name": "ipython",
    "version": 3
   },
   "file_extension": ".py",
   "mimetype": "text/x-python",
   "name": "python",
   "nbconvert_exporter": "python",
   "pygments_lexer": "ipython3",
   "version": "3.11.10"
  }
 },
 "nbformat": 4,
 "nbformat_minor": 5
}
