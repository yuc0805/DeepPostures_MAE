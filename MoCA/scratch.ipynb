{
 "cells": [
  {
   "cell_type": "code",
   "execution_count": null,
   "id": "fcf7c9d9",
   "metadata": {},
   "outputs": [],
   "source": [
    "from util.commons import *\n",
    "from MSSE-2021 import"
   ]
  },
  {
   "cell_type": "code",
   "execution_count": null,
   "id": "d8db33ad",
   "metadata": {},
   "outputs": [],
   "source": []
  },
  {
   "cell_type": "code",
   "execution_count": 7,
   "id": "18c23638",
   "metadata": {},
   "outputs": [],
   "source": [
    "train_dataloader, valid_dataloader, test_dataloader = get_dataloaders_dist(\n",
    "    pre_processed_dir=\"/niddk-data-central/iWatch/pre_processed_pt\",\n",
    "    bi_lstm_win_size=10,\n",
    "    batch_size=2,\n",
    "    train_subjects=None,\n",
    "    valid_subjects=None,\n",
    "    test_subjects=None,\n",
    "    rank=1,\n",
    "    world_size=1,\n",
    ")\n"
   ]
  },
  {
   "cell_type": "code",
   "execution_count": 1,
   "id": "ef73fa5c",
   "metadata": {},
   "outputs": [
    {
     "name": "stdout",
     "output_type": "stream",
     "text": [
      "Top-level groups and datasets:\n",
      "  data: Dataset\n",
      "  label: Dataset\n",
      "  non_wear: Dataset\n",
      "  sleeping: Dataset\n",
      "  time: Dataset\n",
      "\n",
      "Detailed dataset info:\n",
      "  Dataset: data\n",
      "    Shape: (8640, 100, 3)\n",
      "    Dtype: float64\n",
      "  Dataset: label\n",
      "    Shape: (8640,)\n",
      "    Dtype: int64\n",
      "  Dataset: non_wear\n",
      "    Shape: (8640,)\n",
      "    Dtype: int64\n",
      "  Dataset: sleeping\n",
      "    Shape: (8640,)\n",
      "    Dtype: int64\n",
      "  Dataset: time\n",
      "    Shape: (8640,)\n",
      "    Dtype: float64\n"
     ]
    }
   ],
   "source": [
    "import h5py\n",
    "\n",
    "# Path to your HDF5 file\n",
    "file_path = '/niddk-data-central/iWatch/pre_processed_pt/H/i0001A/2013-05-09.h5'\n",
    "\n",
    "# Open the file in read-only mode and display its structure\n",
    "with h5py.File(file_path, 'r') as f:\n",
    "    print(\"Top-level groups and datasets:\")\n",
    "    for name, obj in f.items():\n",
    "        print(f\"  {name}: {obj.__class__.__name__}\")\n",
    "    \n",
    "    print(\"\\nDetailed dataset info:\")\n",
    "    def print_info(name, obj):\n",
    "        if isinstance(obj, h5py.Dataset):\n",
    "            print(f\"  Dataset: {name}\")\n",
    "            print(f\"    Shape: {obj.shape}\")\n",
    "            print(f\"    Dtype: {obj.dtype}\")\n",
    "    f.visititems(print_info)\n"
   ]
  },
  {
   "cell_type": "code",
   "execution_count": 2,
   "id": "dc5463c5",
   "metadata": {},
   "outputs": [
    {
     "data": {
      "text/plain": [
       "<Closed HDF5 file>"
      ]
     },
     "execution_count": 2,
     "metadata": {},
     "output_type": "execute_result"
    }
   ],
   "source": [
    "f"
   ]
  },
  {
   "cell_type": "code",
   "execution_count": null,
   "id": "2be53ab0",
   "metadata": {},
   "outputs": [],
   "source": []
  }
 ],
 "metadata": {
  "kernelspec": {
   "display_name": "Python 3",
   "language": "python",
   "name": "python3"
  },
  "language_info": {
   "codemirror_mode": {
    "name": "ipython",
    "version": 3
   },
   "file_extension": ".py",
   "mimetype": "text/x-python",
   "name": "python",
   "nbconvert_exporter": "python",
   "pygments_lexer": "ipython3",
   "version": "3.11.10"
  }
 },
 "nbformat": 4,
 "nbformat_minor": 5
}
