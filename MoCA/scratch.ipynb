{
 "cells": [
  {
   "cell_type": "code",
   "execution_count": 4,
   "id": "fcf7c9d9",
   "metadata": {},
   "outputs": [],
   "source": [
    "from util.commons import *"
   ]
  },
  {
   "cell_type": "code",
   "execution_count": 7,
   "id": "18c23638",
   "metadata": {},
   "outputs": [],
   "source": [
    "train_dataloader, valid_dataloader, test_dataloader = get_dataloaders_dist(\n",
    "    pre_processed_dir=\"/niddk-data-central/iWatch/pre_processed_pt\",\n",
    "    bi_lstm_win_size=10,\n",
    "    batch_size=2,\n",
    "    train_subjects=None,\n",
    "    valid_subjects=None,\n",
    "    test_subjects=None,\n",
    "    rank=1,\n",
    "    world_size=1,\n",
    ")\n"
   ]
  },
  {
   "cell_type": "code",
   "execution_count": null,
   "id": "ef73fa5c",
   "metadata": {},
   "outputs": [
    {
     "ename": "AttributeError",
     "evalue": "'NoneType' object has no attribute 'dataset'",
     "output_type": "error",
     "traceback": [
      "\u001b[31m---------------------------------------------------------------------------\u001b[39m",
      "\u001b[31mAttributeError\u001b[39m                            Traceback (most recent call last)",
      "\u001b[36mCell\u001b[39m\u001b[36m \u001b[39m\u001b[32mIn[10]\u001b[39m\u001b[32m, line 1\u001b[39m\n\u001b[32m----> \u001b[39m\u001b[32m1\u001b[39m \u001b[38;5;28mlen\u001b[39m(\u001b[43mtrain_dataloader\u001b[49m\u001b[43m.\u001b[49m\u001b[43mdataset\u001b[49m), \u001b[38;5;28mlen\u001b[39m(valid_dataloader.dataset), \u001b[38;5;28mlen\u001b[39m(test_dataloader.dataset)\n",
      "\u001b[31mAttributeError\u001b[39m: 'NoneType' object has no attribute 'dataset'"
     ]
    }
   ],
   "source": []
  },
  {
   "cell_type": "code",
   "execution_count": null,
   "id": "2be53ab0",
   "metadata": {},
   "outputs": [],
   "source": []
  }
 ],
 "metadata": {
  "kernelspec": {
   "display_name": "Python 3",
   "language": "python",
   "name": "python3"
  },
  "language_info": {
   "codemirror_mode": {
    "name": "ipython",
    "version": 3
   },
   "file_extension": ".py",
   "mimetype": "text/x-python",
   "name": "python",
   "nbconvert_exporter": "python",
   "pygments_lexer": "ipython3",
   "version": "3.11.10"
  }
 },
 "nbformat": 4,
 "nbformat_minor": 5
}
