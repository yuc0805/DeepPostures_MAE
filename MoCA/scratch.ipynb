{
 "cells": [
  {
   "cell_type": "code",
   "execution_count": null,
   "id": "fcf7c9d9",
   "metadata": {},
   "outputs": [],
   "source": [
    "from util.commons import *\n",
    "from MSSE-2021 import"
   ]
  },
  {
   "cell_type": "code",
   "execution_count": null,
   "id": "d8db33ad",
   "metadata": {},
   "outputs": [],
   "source": []
  },
  {
   "cell_type": "code",
   "execution_count": 7,
   "id": "18c23638",
   "metadata": {},
   "outputs": [],
   "source": [
    "train_dataloader, valid_dataloader, test_dataloader = get_dataloaders_dist(\n",
    "    pre_processed_dir=\"/niddk-data-central/iWatch/pre_processed_pt\",\n",
    "    bi_lstm_win_size=10,\n",
    "    batch_size=2,\n",
    "    train_subjects=None,\n",
    "    valid_subjects=None,\n",
    "    test_subjects=None,\n",
    "    rank=1,\n",
    "    world_size=1,\n",
    ")\n"
   ]
  },
  {
   "cell_type": "code",
   "execution_count": 1,
   "id": "ef73fa5c",
   "metadata": {},
   "outputs": [
    {
     "name": "stdout",
     "output_type": "stream",
     "text": [
      "Top-level groups and datasets:\n",
      "  data: Dataset\n",
      "  label: Dataset\n",
      "  non_wear: Dataset\n",
      "  sleeping: Dataset\n",
      "  time: Dataset\n",
      "\n",
      "Detailed dataset info:\n",
      "  Dataset: data\n",
      "    Shape: (8640, 100, 3)\n",
      "    Dtype: float64\n",
      "  Dataset: label\n",
      "    Shape: (8640,)\n",
      "    Dtype: int64\n",
      "  Dataset: non_wear\n",
      "    Shape: (8640,)\n",
      "    Dtype: int64\n",
      "  Dataset: sleeping\n",
      "    Shape: (8640,)\n",
      "    Dtype: int64\n",
      "  Dataset: time\n",
      "    Shape: (8640,)\n",
      "    Dtype: float64\n"
     ]
    }
   ],
   "source": [
    "import h5py\n",
    "\n",
    "# Path to your HDF5 file\n",
    "file_path = '/niddk-data-central/iWatch/pre_processed_pt/H/i0001A/2013-05-09.h5'\n",
    "\n",
    "# Open the file in read-only mode and display its structure\n",
    "with h5py.File(file_path, 'r') as f:\n",
    "    print(\"Top-level groups and datasets:\")\n",
    "    for name, obj in f.items():\n",
    "        print(f\"  {name}: {obj.__class__.__name__}\")\n",
    "    \n",
    "    print(\"\\nDetailed dataset info:\")\n",
    "    def print_info(name, obj):\n",
    "        if isinstance(obj, h5py.Dataset):\n",
    "            print(f\"  Dataset: {name}\")\n",
    "            print(f\"    Shape: {obj.shape}\")\n",
    "            print(f\"    Dtype: {obj.dtype}\")\n",
    "    f.visititems(print_info)\n"
   ]
  },
  {
   "cell_type": "code",
   "execution_count": 2,
   "id": "dc5463c5",
   "metadata": {},
   "outputs": [
    {
     "data": {
      "text/plain": [
       "<Closed HDF5 file>"
      ]
     },
     "execution_count": 2,
     "metadata": {},
     "output_type": "execute_result"
    }
   ],
   "source": [
    "f"
   ]
  },
  {
   "cell_type": "code",
   "execution_count": 14,
   "id": "2be53ab0",
   "metadata": {},
   "outputs": [
    {
     "name": "stderr",
     "output_type": "stream",
     "text": [
      "/Users/leo/Desktop/DeepPostures_MAE/MSSE-2021-pt/utils.py:86: RuntimeWarning: invalid value encountered in divide\n",
      "  f1_score = 2 * ppv * sensitivity / (ppv + sensitivity)\n"
     ]
    },
    {
     "name": "stdout",
     "output_type": "stream",
     "text": [
      "Manual Accuracy:          0.7714, Torchmetrics: 0.7714\n",
      "Manual Balanced Accuracy: 0.4263, Torchmetrics: 0.4263\n",
      "Manual Weighted F1 Score: 0.7880, Torchmetrics: 0.7880\n"
     ]
    }
   ],
   "source": [
    "import torch\n",
    "import numpy as np\n",
    "from sklearn.metrics import confusion_matrix\n",
    "from torchmetrics.classification import BinaryAccuracy, MulticlassRecall, MulticlassSpecificity,MulticlassF1Score\n",
    "# from torchmetrics import F1Score\n",
    "import sys\n",
    "sys.path.append('/Users/leo/Desktop/DeepPostures_MAE/MSSE-2021-pt/')\n",
    "from utils import compute_additional_metrics_from_confusion_matrix, compute_accuracy_from_confusion_matrix\n",
    "\n",
    "# ---- Simulate batch-wise imbalanced binary data with both FP and FN ----\n",
    "batch1_true = torch.tensor([0]*45 + [1]*5)\n",
    "batch1_pred = torch.tensor([0]*38 + [1]*7 + [0]*5)  # 5 TP, 5 FN, 7 FP\n",
    "\n",
    "batch2_true = torch.tensor([0]*50 + [1]*5)\n",
    "batch2_pred = torch.tensor([0]*43 + [1]*7 + [0]*5)  # 5 TP, 5 FN, 7 FP\n",
    "\n",
    "# Combine batches\n",
    "y_true = torch.cat([batch1_true, batch2_true])\n",
    "y_pred = torch.cat([batch1_pred, batch2_pred])\n",
    "\n",
    "# ---- Compute confusion matrix ----\n",
    "cm = confusion_matrix(y_true.numpy(), y_pred.numpy(), labels=[0, 1])\n",
    "\n",
    "# ---- Compute metrics using your utility functions ----\n",
    "acc_np, bal_acc_np = compute_accuracy_from_confusion_matrix(cm)\n",
    "metrics_np = compute_additional_metrics_from_confusion_matrix(cm)\n",
    "f1_np_class0 = metrics_np[\"f1_score\"][0]\n",
    "f1_np_class1 = metrics_np[\"f1_score\"][1]\n",
    "support_class0 = cm[0].sum()\n",
    "support_class1 = cm[1].sum()\n",
    "weighted_f1_np = (f1_np_class0 * support_class0 + f1_np_class1 * support_class1) / (support_class0 + support_class1)\n",
    "\n",
    "# ---- Compute metrics using torchmetrics ----\n",
    "# Initialize metrics\n",
    "accuracy_metric = BinaryAccuracy()\n",
    "recall_metric = MulticlassRecall(num_classes=2,\n",
    "                                 average='weighted',\n",
    "                                 zero_division=0)\n",
    "specificity_metric  = MulticlassSpecificity(num_classes=2,\n",
    "    average='weighted',\n",
    "    zero_division=0\n",
    ")\n",
    "f1_metric = MulticlassF1Score(num_classes=2,\n",
    "                           average='weighted',\n",
    "                           zero_division=0)\n",
    "\n",
    "# Update metrics with batch1\n",
    "accuracy_metric.update(batch1_pred, batch1_true)\n",
    "recall_metric.update(batch1_pred, batch1_true)\n",
    "specificity_metric.update(batch1_pred, batch1_true)\n",
    "f1_metric.update(batch1_pred, batch1_true)\n",
    "\n",
    "# Update metrics with batch2\n",
    "accuracy_metric.update(batch2_pred, batch2_true)\n",
    "recall_metric.update(batch2_pred, batch2_true)\n",
    "specificity_metric.update(batch2_pred, batch2_true)\n",
    "f1_metric.update(batch2_pred, batch2_true)\n",
    "\n",
    "# Compute metrics\n",
    "accuracy_tm = accuracy_metric.compute().item()\n",
    "recall_tm = recall_metric.compute().item()\n",
    "specificity_tm = specificity_metric.compute().item()\n",
    "balanced_acc_tm = (recall_tm + specificity_tm) / 2\n",
    "\n",
    "f1_tm = f1_metric.compute().item()\n",
    "\n",
    "# ---- Print comparison ----\n",
    "print(f\"Manual Accuracy:          {acc_np:.4f}, Torchmetrics: {accuracy_tm:.4f}\")\n",
    "print(f\"Manual Balanced Accuracy: {bal_acc_np:.4f}, Torchmetrics: {balanced_acc_tm:.4f}\")\n",
    "print(f\"Manual Weighted F1 Score: {weighted_f1_np:.4f}, Torchmetrics: {f1_tm:.4f}\")\n"
   ]
  },
  {
   "cell_type": "code",
   "execution_count": null,
   "id": "2fc48048",
   "metadata": {},
   "outputs": [],
   "source": []
  }
 ],
 "metadata": {
  "kernelspec": {
   "display_name": "base",
   "language": "python",
   "name": "python3"
  },
  "language_info": {
   "codemirror_mode": {
    "name": "ipython",
    "version": 3
   },
   "file_extension": ".py",
   "mimetype": "text/x-python",
   "name": "python",
   "nbconvert_exporter": "python",
   "pygments_lexer": "ipython3",
   "version": "3.11.7"
  }
 },
 "nbformat": 4,
 "nbformat_minor": 5
}
